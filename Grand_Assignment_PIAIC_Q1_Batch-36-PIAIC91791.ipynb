{
 "cells": [
  {
   "cell_type": "markdown",
   "id": "2e5301ff",
   "metadata": {},
   "source": [
    "# Student Name: AMJAD AZIZ\n",
    "## Roll no : PIAIC91791\n",
    "# Q1 - BATCH : 36\n",
    "## Onsite UIT - Sunday "
   ]
  },
  {
   "cell_type": "markdown",
   "id": "48e3b3f8",
   "metadata": {},
   "source": [
    "# Grand Assignment :            \n",
    "\n",
    "## Variables and Strings\n",
    "### 1.Simple Message: Assign a message to a variable, and then print that message."
   ]
  },
  {
   "cell_type": "code",
   "execution_count": 1,
   "id": "e2f671f7",
   "metadata": {},
   "outputs": [
    {
     "name": "stdout",
     "output_type": "stream",
     "text": [
      "Hello and Welcome to Python coding\n"
     ]
    }
   ],
   "source": [
    "x = \"Hello and Welcome to Python coding\"\n",
    "print(x)"
   ]
  },
  {
   "cell_type": "markdown",
   "id": "bb9a66a5",
   "metadata": {},
   "source": [
    "### 2.Find a quote from a famous person you admire. Print the quote and the name of its author. \n",
    "Your output should look something like the following, including the quotation marks:\n",
    "\n",
    "Albert Einstein once said, “A person who never made a mistake never tried anything new.”"
   ]
  },
  {
   "cell_type": "code",
   "execution_count": 2,
   "id": "3637d0e0",
   "metadata": {},
   "outputs": [
    {
     "name": "stdout",
     "output_type": "stream",
     "text": [
      "Albert Einstein once said,\"A person who never made a mistake never tried anything new.\"\n"
     ]
    }
   ],
   "source": [
    "My_fav_Quote = '\"A person who never made a mistake never tried anything new.\"'\n",
    "\n",
    "print(f\"Albert Einstein once said,{My_fav_Quote}\")"
   ]
  },
  {
   "cell_type": "markdown",
   "id": "8c9c68d4",
   "metadata": {},
   "source": [
    "### 3.Calculate Area of a Circle.\n",
    "Write a Python program which accepts the radius of a circle from the user and compute the area.\n",
    "\n",
    "Program Console Sample Output 1:\n",
    "\n",
    "Input Radius: 0.5\n",
    "\n",
    "Area of Circle with radius 0.5 is 0.7853981634"
   ]
  },
  {
   "cell_type": "code",
   "execution_count": 3,
   "id": "ee637990",
   "metadata": {},
   "outputs": [
    {
     "name": "stdout",
     "output_type": "stream",
     "text": [
      "Input Radius here: 0.5\n",
      "\n",
      "Area of Circle with radius0.5 is 0.78539815\n"
     ]
    }
   ],
   "source": [
    "# formula of area = π r²\n",
    "\n",
    "radius = float(input('Input Radius here: '))\n",
    "pi = 3.1415926\n",
    "area = pi * radius**2\n",
    "\n",
    "print(f\"\\nArea of Circle with radius{radius} is {area}\")"
   ]
  },
  {
   "cell_type": "markdown",
   "id": "26d124a6",
   "metadata": {},
   "source": [
    "### Check Number either positive, negative or zero.\n",
    "Write a Python program to check if a number is positive,\n",
    "\n",
    "negative or zero\n",
    "\n",
    "Program Console Sample Output 1:\n",
    "\n",
    "Enter Number: -1\n",
    "\n",
    "Negative Number Entered\n",
    "\n",
    "Program Console Sample Output 2:\n",
    "\n",
    "Integer: 3\n",
    "\n",
    "Positive Number Entered\n",
    "\n",
    "Program Console Sample Output 3:\n",
    "\n",
    "Integer: 0\n",
    "\n",
    "Zero Entered"
   ]
  },
  {
   "cell_type": "code",
   "execution_count": 6,
   "id": "afccde99",
   "metadata": {},
   "outputs": [
    {
     "name": "stdout",
     "output_type": "stream",
     "text": [
      "Enter Number: 0\n",
      "Zero Entered\n"
     ]
    }
   ],
   "source": [
    "number = float(input(\"Enter Number: \"))\n",
    "\n",
    "if number > 0:\n",
    "    print(\"Positive Number Entered\")\n",
    "\n",
    "elif number < 0:\n",
    "    print(\"Negative Number Entered\")\n",
    "\n",
    "else: \n",
    "    print('Zero Entered')"
   ]
  },
  {
   "cell_type": "markdown",
   "id": "a22e737f",
   "metadata": {},
   "source": [
    "### Vowel Tester Write a Python program to test whether a passed letter is a vowel or not\n",
    "Program Console Output 1:\n",
    "\n",
    "Enter a character: A\n",
    "\n",
    "Letter A is Vowel\n",
    "\n",
    "Program Console Output 2:\n",
    "\n",
    "Enter a character: e\n",
    "\n",
    "Letter e is Vowel\n",
    "\n",
    "Program Console Output 2:\n",
    "\n",
    "Enter a character: N\n",
    "\n",
    "Letter N is not Vowel."
   ]
  },
  {
   "cell_type": "code",
   "execution_count": null,
   "id": "07a84d59",
   "metadata": {},
   "outputs": [],
   "source": [
    "character = input('Enter a Character: ')\n",
    "\n",
    "vowels = (\"A\", \"E\", \"I\", \"O\", \"U\", \"a\", \"e\", \"i\", \"o\", \"u\")\n",
    "print(\"----------------------------------\")\n",
    "if character in vowels:\n",
    "    print(f'Letter \"{character}\" is Vowel')\n",
    "else:\n",
    "    print(f'Letter \"{character}\" is not Vowel')"
   ]
  },
  {
   "cell_type": "markdown",
   "id": "b486e358",
   "metadata": {},
   "source": [
    "### BMI Calculator\n",
    "Write a Python program to calculate body mass index Program Console\n",
    "\n",
    "Sample 1:\n",
    "\n",
    "Enter Height in Cm: 180\n",
    "\n",
    "Enter Weight in Kg: 75\n",
    "\n",
    "Your BMI is 23.15"
   ]
  },
  {
   "cell_type": "code",
   "execution_count": null,
   "id": "e807a14d",
   "metadata": {},
   "outputs": [],
   "source": [
    "height = int(input(\"Enter Height in Cm: \"))\n",
    "weight = float(input(\"Enter Weight in Kg: \"))\n",
    "\n",
    "#BMI formula is  (weight / height in Sq.meter)\n",
    "\n",
    "bmi = float(weight / (height / 100) ** 2)\n",
    "\n",
    "print('\\n********************************')\n",
    "print(f\"Your BMI is: {bmi: .2f}\")\n",
    "print('--------------------------------')"
   ]
  },
  {
   "cell_type": "markdown",
   "id": "5884227a",
   "metadata": {},
   "source": [
    "# LIST "
   ]
  },
  {
   "cell_type": "markdown",
   "id": "ac181728",
   "metadata": {},
   "source": [
    "## Store the names of a few of your friends in a list called names\n",
    "\n",
    "### 1. Print each person’s name by accessing each element in the list, one at a time."
   ]
  },
  {
   "cell_type": "code",
   "execution_count": null,
   "id": "2c62d0ce",
   "metadata": {},
   "outputs": [],
   "source": [
    "Friends_names = [\"Aamir Aziz\",\"Qayraise Ali\", \"Muneeb Ahmed Abbasi\", \"Sheraz Khan\", \"Ali Sheraz\"]\n",
    "\n",
    "for a in Friends_names:\n",
    "    print(a)"
   ]
  },
  {
   "cell_type": "markdown",
   "id": "144f208c",
   "metadata": {},
   "source": [
    "--------"
   ]
  },
  {
   "cell_type": "markdown",
   "id": "93baca5a",
   "metadata": {},
   "source": [
    "### 2. Start with the list you used in Question 4, but instead of just printing each person’s name, print a message      to them. The text of each message should be the same, but each message should be personalized with the person’s name."
   ]
  },
  {
   "cell_type": "code",
   "execution_count": null,
   "id": "13c7f4df",
   "metadata": {},
   "outputs": [],
   "source": [
    "for x in Friends_names:\n",
    "    print(f\" Hi! {x}, How is your life going? \")"
   ]
  },
  {
   "cell_type": "markdown",
   "id": "8dd579fa",
   "metadata": {},
   "source": [
    "-----------"
   ]
  },
  {
   "cell_type": "markdown",
   "id": "dcdef04b",
   "metadata": {},
   "source": [
    "### 3. Make a python program that conatains your nine favourite dishes in a list called foods. Print the message, The first three items in the list are:\n",
    "\n",
    "Then use a slice to print the first three items from that program’s list.\n",
    "\n",
    "Print the message, Three items from the middle of the list are:\n",
    "\n",
    "Use a slice to print three items from the middle of the list.\n",
    "\n",
    "Print the message, The last three items in the list are:\n",
    "\n",
    "Use a slice to print the last three items in the list."
   ]
  },
  {
   "cell_type": "code",
   "execution_count": null,
   "id": "e8ef419b",
   "metadata": {},
   "outputs": [],
   "source": [
    "foods = [\"Tikka\", \"Nihari\", \"Biryani\", \"Broast\", \"Zinger Burger\", \"Malai Boti\", \"Swati Chawal\", \"Chapli Kabab\", \"Tandoori Chicken\"]"
   ]
  },
  {
   "cell_type": "code",
   "execution_count": null,
   "id": "dd54c707",
   "metadata": {},
   "outputs": [],
   "source": [
    "print(\"The First three items in the list are:\", foods[:3])"
   ]
  },
  {
   "cell_type": "code",
   "execution_count": null,
   "id": "73229607",
   "metadata": {},
   "outputs": [],
   "source": [
    "print(\"The Middle three items from the list are:\", foods[3:6])"
   ]
  },
  {
   "cell_type": "code",
   "execution_count": null,
   "id": "8ec554e2",
   "metadata": {},
   "outputs": [],
   "source": [
    "print(\"The Last three items in the list are:\", foods[6:])"
   ]
  },
  {
   "cell_type": "markdown",
   "id": "0e74728d",
   "metadata": {},
   "source": [
    "### Start with your program from your last Question 8.\n",
    "#### Make a copy of the list of foods, and call it friend_foods. Then, do the following:\n",
    "Add a new dish to the original list.\n",
    "\n",
    "Add a different dish to the list friend_foods.\n",
    "\n",
    "Prove that you have two separate lists.\n",
    "\n",
    "Print the message, My favorite pizzas are: and then use a for loop to print the first list.\n",
    "\n",
    "Print the message,\n",
    "\n",
    "My friend’s favorite foods are:, and then use a for loop to print the second list.\n",
    "\n",
    "NOTE: Make sure each new dish is stored in the appropriate list."
   ]
  },
  {
   "cell_type": "markdown",
   "id": "7aa2ff72",
   "metadata": {},
   "source": [
    "### Making New List from the Original Food List"
   ]
  },
  {
   "cell_type": "code",
   "execution_count": null,
   "id": "19697afd",
   "metadata": {},
   "outputs": [],
   "source": [
    "friends_foods = foods.copy()   #Making a new list named friends_foods by copying from last list"
   ]
  },
  {
   "cell_type": "markdown",
   "id": "eee57c5c",
   "metadata": {},
   "source": [
    "### Adding New Dish in Both List"
   ]
  },
  {
   "cell_type": "code",
   "execution_count": null,
   "id": "8189ca37",
   "metadata": {},
   "outputs": [],
   "source": [
    "foods.append(\"Rabri\")      # Adding the New Item in the original food List\n",
    "\n",
    "friends_foods.append(\"Halwa\")  #Adding the New Item in the friends foods list\n",
    "\n",
    "print(foods)\n",
    "print(friends_foods)"
   ]
  },
  {
   "cell_type": "markdown",
   "id": "753bfc2a",
   "metadata": {},
   "source": [
    "## Checking the Both List , they are Same or Not"
   ]
  },
  {
   "cell_type": "code",
   "execution_count": null,
   "id": "bb6c106e",
   "metadata": {},
   "outputs": [],
   "source": [
    "if foods == friends_foods:\n",
    "    print(\"Both lists are same\")\n",
    "\n",
    "else:\n",
    "    print(\"Both lists are different\")"
   ]
  },
  {
   "cell_type": "code",
   "execution_count": null,
   "id": "2d0bb757",
   "metadata": {},
   "outputs": [],
   "source": [
    "print(\"My favorite foods are:\")\n",
    "\n",
    "for my_foods in foods:\n",
    "    print(\"*\", my_foods)"
   ]
  },
  {
   "cell_type": "code",
   "execution_count": null,
   "id": "8748e827",
   "metadata": {},
   "outputs": [],
   "source": [
    "print(\"My friend's favorite foods are:\")\n",
    "\n",
    "for my_friends_fav_foods in friends_foods:\n",
    "    print(\"*\", my_friends_fav_foods)"
   ]
  }
 ],
 "metadata": {
  "kernelspec": {
   "display_name": "Python 3 (ipykernel)",
   "language": "python",
   "name": "python3"
  },
  "language_info": {
   "codemirror_mode": {
    "name": "ipython",
    "version": 3
   },
   "file_extension": ".py",
   "mimetype": "text/x-python",
   "name": "python",
   "nbconvert_exporter": "python",
   "pygments_lexer": "ipython3",
   "version": "3.9.12"
  }
 },
 "nbformat": 4,
 "nbformat_minor": 5
}
